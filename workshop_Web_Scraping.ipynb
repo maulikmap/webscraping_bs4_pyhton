{
  "nbformat": 4,
  "nbformat_minor": 0,
  "metadata": {
    "colab": {
      "name": "workshop_Web_Scraping.ipynb",
      "provenance": [],
      "collapsed_sections": [],
      "mount_file_id": "1jaVAiR70wg8A-vtkha1XkNmANw_Q9nan",
      "authorship_tag": "ABX9TyOjq4M1tdHrMPFcOaKI2dmz",
      "include_colab_link": true
    },
    "kernelspec": {
      "name": "python3",
      "display_name": "Python 3"
    },
    "language_info": {
      "name": "python"
    }
  },
  "cells": [
    {
      "cell_type": "markdown",
      "metadata": {
        "id": "view-in-github",
        "colab_type": "text"
      },
      "source": [
        "<a href=\"https://colab.research.google.com/github/maulikmap/webscraping_bs4_pyhton/blob/main/workshop_Web_Scraping.ipynb\" target=\"_parent\"><img src=\"https://colab.research.google.com/assets/colab-badge.svg\" alt=\"Open In Colab\"/></a>"
      ]
    },
    {
      "cell_type": "markdown",
      "source": [
        "# ***Web Scraping With Python***"
      ],
      "metadata": {
        "id": "7w7TRuUB-S6x"
      }
    },
    {
      "cell_type": "markdown",
      "source": [
        "**Web scraping is a technique used to extract large amounts of data from websites.** Web scraping is also known as **web harvesting, web data extraction or screen scraping.**"
      ],
      "metadata": {
        "id": "WPtKNuob-ejW"
      }
    },
    {
      "cell_type": "markdown",
      "source": [
        "*   The **data is extracted** from the websites and saved to a local file in the computer. \n",
        "*   This is most commonly done by **writing an automated program.** \n",
        "*   The program queries a web server, requests data and then **parses that data to extract the required information**.\n",
        "*   The examples include **data analysis, natural language parsing and information security**. "
      ],
      "metadata": {
        "id": "7uX17zgtAk_F"
      }
    },
    {
      "cell_type": "markdown",
      "source": [
        "**Advantages of Web Scraping using Python**\n",
        "\n",
        "*   **Simplicity**\n",
        "\n",
        "*   **Large libraries**\n",
        "\n",
        "*   **Syntax is easily understandable**\n",
        "\n",
        "*   **Quick**"
      ],
      "metadata": {
        "id": "6zjAFYETAx7c"
      }
    },
    {
      "cell_type": "markdown",
      "source": [
        "**How does Web Scraping with Python work?**\n",
        "\n",
        "\n",
        "***It works in 5 Steps:***\n",
        "\n",
        "**Step 1:** Choose the URL from which you would like to scrape\n",
        "\n",
        "**Step 2:** Read the page and find the data you would like to collect\n",
        "\n",
        "**Step 3:** Write the code\n",
        "\n",
        "**Step 4:** Run the code to extract the data\n",
        "\n",
        "**Step 5:** Store the data in the necessary format\n"
      ],
      "metadata": {
        "id": "k8UKM8_SB014"
      }
    },
    {
      "cell_type": "markdown",
      "source": [
        "**Important:**\n",
        "\n",
        "***Certain sites allow web scraping freely, others may block you.***\n",
        "\n",
        "How to check ?\n",
        "\n",
        "Using **robots.txt**\n",
        "\n",
        "For example, if you would like to scrape data from ***https://www.google.com***, you would type **https://www.google.com/robots.txt*** into the address bar.\n",
        "\n",
        "Same way: \n",
        "\n",
        "https://www.amazon.in/robots.txt\n",
        "\n",
        "https://facebook.com/robots.txt"
      ],
      "metadata": {
        "id": "vzPzrdcbCzn4"
      }
    },
    {
      "cell_type": "markdown",
      "source": [
        "***Python Libraries for Web Scraping***\n",
        "\n",
        "For web scraping purposes, you will use the following libraries:\n",
        "\n",
        "***Selenium:*** This is a **web testing library** used to automate browser activity.\n",
        "\n",
        "***Beautiful Soup:*** This is a library used for ***parsing HTML and XML documents***. This library creates ***“parse trees”*** allowing for easy data extraction.\n",
        "\n",
        "***Pandas:*** This is a library used for ***data manipulation and analysis***."
      ],
      "metadata": {
        "id": "9DxEQgVnRngh"
      }
    },
    {
      "cell_type": "markdown",
      "source": [
        "*   ***The Beauliful Soup is the best suitable library for Web scrapping.*** \n",
        "\n",
        "*   All we need to do is navigating and searching the parse tree that we created, i.e. tree traversal. For this task, we will be using Beautiful Soup."
      ],
      "metadata": {
        "id": "PNrurBsGU1UL"
      }
    },
    {
      "cell_type": "markdown",
      "source": [
        "***Inspecting the Site***"
      ],
      "metadata": {
        "id": "qY9JTC5QTabT"
      }
    },
    {
      "cell_type": "code",
      "execution_count": null,
      "metadata": {
        "colab": {
          "base_uri": "https://localhost:8080/"
        },
        "id": "c0ctT0ee9i2q",
        "outputId": "8ecbd92d-cd0b-4964-d15f-5ecf38fba1e1"
      },
      "outputs": [
        {
          "output_type": "stream",
          "name": "stdout",
          "text": [
            "Requirement already satisfied: bs4 in /usr/local/lib/python3.7/dist-packages (0.0.1)\n",
            "Requirement already satisfied: beautifulsoup4 in /usr/local/lib/python3.7/dist-packages (from bs4) (4.6.3)\n"
          ]
        }
      ],
      "source": [
        "pip install requests\n",
        "pip install html5lib\n",
        "pip install bs4"
      ]
    },
    {
      "cell_type": "markdown",
      "source": [
        "# ***Note :*** \n",
        "\n",
        "#*Web Scraping is considered as illegal in many cases. It may also cause your IP to be blocked permanently by a website.*"
      ],
      "metadata": {
        "id": "fbjWCOygWhuZ"
      }
    },
    {
      "cell_type": "markdown",
      "source": [
        "# **Accessing a web page**"
      ],
      "metadata": {
        "id": "zyBr9xWw-Wf_"
      }
    },
    {
      "cell_type": "markdown",
      "source": [
        "A two way process takes place, when we try to access a web page. At first, our web browser makes a request to a web server. This request is called a **GET request**, since we try to get files from the server. Then the server sends back files that tell our browser how to render the page for us. \n",
        "\n",
        "***The files fall into few main categories as follows:-***\n",
        "\n",
        "*   **HTML** - contains the main content of the page.\n",
        "\n",
        "*   **CSS** - add styles to make the page look nicer.\n",
        "\n",
        "*   **JS** - Javascript files add interactively to web pages.\n",
        "\n",
        "*   **Images** - image formats, such as JPG and PNG allow web pages to show pictures.\n",
        "\n",
        "The browser receives all the files. It renders the page and displays it. \n",
        "\n",
        "**When we perform web scraping, we are mainly interested in the main content of the web page, which is html.**"
      ],
      "metadata": {
        "id": "SEVIZtI4-fI9"
      }
    },
    {
      "cell_type": "markdown",
      "source": [
        "# **Introduction to HTML**"
      ],
      "metadata": {
        "id": "yTzaQwILARop"
      }
    },
    {
      "cell_type": "markdown",
      "source": [
        "HTML stands for **Hyper Text Markup Language.** It is a markup language that tells a browser how to display the content.\n",
        "\n",
        "HTML consists of elements called **tags**. The most basic tag is the **html** tag. This tag tells the web browser that everything inside of it is HTML. **In HTML, tags are nested and we can go inside another tags.**\n",
        "\n",
        "There are two other tags inside an html tag. **The head tag and the body tag.** The main content of the web page goes into the body tag. The head tag contains data about the title of the page and other information.\n",
        "\n",
        "Tags have commonly used names that depend on their position in relation to other tags:\n",
        "\n",
        "*   **parent tag** — a parent tag is a tag which contains another tag inside.\n",
        "*   **child tag** — a child is a tag inside another tag.\n",
        "*   **sibling tag** — a sibling is a tag that is nested inside the same parent as another tag.\n",
        "\n",
        "**The examples of common html tags are as follows:-**\n",
        "\n",
        "*   **a tags** - a tags are links. They tell the browser to render a link to another web page.\n",
        "*   **p tags** - p tag defines a paragraph and any text inside the tag is shown as a separate paragraph.\n",
        "*   **href** - href property of the tag determines where the link goes.\n",
        "*   **div** — indicates a division, or area of the page.\n",
        "*   **table** — creates a table.\n",
        "*   **form** — creates an input form.\n",
        "\n",
        "**Class and id properties**\n",
        "\n",
        "*   Class and id are special properties that give HTML elements names. \n",
        "*   **They make them easier to interact with while scraping.** \n",
        "*   One element can have multiple classes, and a class can be shared between elements.\n",
        "*   Each element can only have one id, and an id can only be used once on a page.\n",
        "*   Classes and ids are optional and not all elements will have them."
      ],
      "metadata": {
        "id": "XjFDnjvmATvC"
      }
    },
    {
      "cell_type": "markdown",
      "source": [
        "**Accessing the HTML content from webpage**"
      ],
      "metadata": {
        "id": "OsFhm_m7XT0H"
      }
    },
    {
      "cell_type": "code",
      "source": [
        "import requests\n",
        "\n",
        "url = \"https://www.google.com/\"\n",
        "\n",
        "r = requests.get(url) # Make a request to url\n",
        "\n",
        "print(r.status_code) # print the status code (200).\n",
        "#print(r.content)\n",
        "print(r.text) # print the result"
      ],
      "metadata": {
        "id": "nIyeDd33YERG",
        "colab": {
          "base_uri": "https://localhost:8080/"
        },
        "outputId": "b8bc1480-4af8-464a-a7a0-11f8a69a728e"
      },
      "execution_count": null,
      "outputs": [
        {
          "output_type": "stream",
          "name": "stdout",
          "text": [
            "200\n",
            "<!doctype html><html itemscope=\"\" itemtype=\"http://schema.org/WebPage\" lang=\"en\"><head><meta content=\"Search the world's information, including webpages, images, videos and more. Google has many special features to help you find exactly what you're looking for.\" name=\"description\"><meta content=\"noodp\" name=\"robots\"><meta content=\"text/html; charset=UTF-8\" http-equiv=\"Content-Type\"><meta content=\"/images/branding/googleg/1x/googleg_standard_color_128dp.png\" itemprop=\"image\"><title>Google</title><script nonce=\"/PAv5gYi3SlzsY+GeXe4Mg==\">(function(){window.google={kEI:'ZARMYsqIF8vN0PEPhpahoAE',kEXPI:'0,1302536,56873,1709,4350,206,4804,2316,383,246,5,1354,4013,1238,1122515,1197742,659,380090,16114,17444,11240,17572,4858,1362,9291,3026,17582,4020,978,13228,3847,4192,6430,7432,15309,2372,2709,1593,1279,2742,149,1103,840,1983,4314,4120,2023,1733,43,521,14670,3229,2844,6,4773,12677,8101,8219,1850,2615,12710,432,3,346,1244,1,5444,149,11323,2652,4,1528,2304,7039,22023,3050,2658,7357,30,13628,2980,1457,9358,5993,1435,5821,2536,4094,4052,3,3541,1,14263,448,2096,25347,2,8982,1,5039,1931,442,342,255,2993,1557,744,5852,10463,1160,5679,1020,2381,2719,16548,1694,1,8,7771,4569,6255,9501,13920,1252,5835,14967,4333,2077,127,2083,1803,1394,445,2,2,1,6394,565,3831,13989,1406,10,1,358,78,8155,113,1675,3336,5,1453,568,231,2,3,182,2,2853,5214,2215,421,2852,936,6550,791,2650,771,1,8,873,144,174,1449,3,1,5829,227,1144,491,920,913,786,770,4000,370,460,106,500,1250,210,758,1355,54,748,2252,130,1238,610,92,343,1,993,88,963,7,3,7,3,30,185,232,104,2507,286,2,392,813,335,230,444,718,533,3,548,106,842,89,677,2,2120,3049,5446885,101,1096,118,5996388,2800308,882,444,3,1877,1,2562,1,748,141,795,563,1,4265,1,1,2,1331,4142,2609,155,17,13,72,139,4,2,20,2,169,13,19,46,5,39,96,548,29,2,2,1,2,1,2,2,7,4,1,2,2,2,2,2,2,353,513,186,1,1,158,3,2,2,2,2,2,4,2,3,3,269,1601,141,1002,71,241,126,7,2,8,7,2,5,1,5,3,24,23951476,4038575,3,3112,3,450,1964,1007,1928,159,1358,4726,3,2173,907,3308,1103,498,3,1155,899,93,863,10',kBL:'zIb2'};google.sn='webhp';google.kHL='en';})();(function(){\n",
            "var f=this||self;var h,k=[];function l(a){for(var b;a&&(!a.getAttribute||!(b=a.getAttribute(\"eid\")));)a=a.parentNode;return b||h}function m(a){for(var b=null;a&&(!a.getAttribute||!(b=a.getAttribute(\"leid\")));)a=a.parentNode;return b}\n",
            "function n(a,b,c,d,g){var e=\"\";c||-1!==b.search(\"&ei=\")||(e=\"&ei=\"+l(d),-1===b.search(\"&lei=\")&&(d=m(d))&&(e+=\"&lei=\"+d));d=\"\";!c&&f._cshid&&-1===b.search(\"&cshid=\")&&\"slh\"!==a&&(d=\"&cshid=\"+f._cshid);c=c||\"/\"+(g||\"gen_204\")+\"?atyp=i&ct=\"+a+\"&cad=\"+b+e+\"&zx=\"+Date.now()+d;/^http:/i.test(c)&&\"https:\"===window.location.protocol&&(google.ml&&google.ml(Error(\"a\"),!1,{src:c,glmm:1}),c=\"\");return c};h=google.kEI;google.getEI=l;google.getLEI=m;google.ml=function(){return null};google.log=function(a,b,c,d,g){if(c=n(a,b,c,d,g)){a=new Image;var e=k.length;k[e]=a;a.onerror=a.onload=a.onabort=function(){delete k[e]};a.src=c}};google.logUrl=n;}).call(this);(function(){\n",
            "google.y={};google.sy=[];google.x=function(a,b){if(a)var c=a.id;else{do c=Math.random();while(google.y[c])}google.y[c]=[a,b];return!1};google.sx=function(a){google.sy.push(a)};google.lm=[];google.plm=function(a){google.lm.push.apply(google.lm,a)};google.lq=[];google.load=function(a,b,c){google.lq.push([[a],b,c])};google.loadAll=function(a,b){google.lq.push([a,b])};google.bx=!1;google.lx=function(){};}).call(this);google.f={};(function(){\n",
            "document.documentElement.addEventListener(\"submit\",function(b){var a;if(a=b.target){var c=a.getAttribute(\"data-submitfalse\");a=\"1\"===c||\"q\"===c&&!a.elements.q.value?!0:!1}else a=!1;a&&(b.preventDefault(),b.stopPropagation())},!0);document.documentElement.addEventListener(\"click\",function(b){var a;a:{for(a=b.target;a&&a!==document.documentElement;a=a.parentElement)if(\"A\"===a.tagName){a=\"1\"===a.getAttribute(\"data-nohref\");break a}a=!1}a&&b.preventDefault()},!0);}).call(this);</script><style>#gbar,#guser{font-size:13px;padding-top:1px !important;}#gbar{height:22px}#guser{padding-bottom:7px !important;text-align:right}.gbh,.gbd{border-top:1px solid #c9d7f1;font-size:1px}.gbh{height:0;position:absolute;top:24px;width:100%}@media all{.gb1{height:22px;margin-right:.5em;vertical-align:top}#gbar{float:left}}a.gb1,a.gb4{text-decoration:underline !important}a.gb1,a.gb4{color:#00c !important}.gbi .gb4{color:#dd8e27 !important}.gbf .gb4{color:#900 !important}\n",
            "</style><style>body,td,a,p,.h{font-family:arial,sans-serif}body{margin:0;overflow-y:scroll}#gog{padding:3px 8px 0}td{line-height:.8em}.gac_m td{line-height:17px}form{margin-bottom:20px}.h{color:#1558d6}em{font-weight:bold;font-style:normal}.lst{height:25px;width:496px}.gsfi,.lst{font:18px arial,sans-serif}.gsfs{font:17px arial,sans-serif}.ds{display:inline-box;display:inline-block;margin:3px 0 4px;margin-left:4px}input{font-family:inherit}body{background:#fff;color:#000}a{color:#4b11a8;text-decoration:none}a:hover,a:active{text-decoration:underline}.fl a{color:#1558d6}a:visited{color:#4b11a8}.sblc{padding-top:5px}.sblc a{display:block;margin:2px 0;margin-left:13px;font-size:11px}.lsbb{background:#f8f9fa;border:solid 1px;border-color:#dadce0 #70757a #70757a #dadce0;height:30px}.lsbb{display:block}#WqQANb a{display:inline-block;margin:0 12px}.lsb{background:url(/images/nav_logo229.png) 0 -261px repeat-x;border:none;color:#000;cursor:pointer;height:30px;margin:0;outline:0;font:15px arial,sans-serif;vertical-align:top}.lsb:active{background:#dadce0}.lst:focus{outline:none}</style><script nonce=\"/PAv5gYi3SlzsY+GeXe4Mg==\">(function(){window.google.erd={jsr:1,bv:1555,de:true};\n",
            "var f=this||self;var g,h=null!=(g=f.mei)?g:1,m,n=null!=(m=f.sdo)?m:!0,p=0,q,r=google.erd,u=r.jsr;google.ml=function(a,b,d,k,c){c=void 0===c?2:c;b&&(q=a&&a.message);if(google.dl)return google.dl(a,c,d),null;if(0>u){window.console&&console.error(a,d);if(-2===u)throw a;b=!1}else b=!a||!a.message||\"Error loading script\"===a.message||p>=h&&!k?!1:!0;if(!b)return null;p++;d=d||{};var e=c;c=encodeURIComponent;b=\"/gen_204?atyp=i&ei=\"+c(google.kEI);google.kEXPI&&(b+=\"&jexpid=\"+c(google.kEXPI));b+=\"&srcpg=\"+c(google.sn)+\"&jsr=\"+c(r.jsr)+\"&bver=\"+c(r.bv)+(\"&jsel=\"+e);e=a.lineNumber;void 0!==e&&(b+=\"&line=\"+\n",
            "e);var l=a.fileName;l&&(b+=\"&script=\"+c(l),e&&l===window.location.href&&(e=document.documentElement.outerHTML.split(\"\\n\")[e],b+=\"&cad=\"+c(e?e.substring(0,300):\"No script found.\")));for(var t in d)b+=\"&\",b+=c(t),b+=\"=\",b+=c(d[t]);b=b+\"&emsg=\"+c(a.name+\": \"+a.message);b=b+\"&jsst=\"+c(a.stack||\"N/A\");12288<=b.length&&(b=b.substr(0,12288));a=b;k||google.log(0,\"\",a);return a};window.onerror=function(a,b,d,k,c){q!==a&&(a=c instanceof Error?c:Error(a),void 0===d||\"lineNumber\"in a||(a.lineNumber=d),void 0===b||\"fileName\"in a||(a.fileName=b),google.ml(a,!1,void 0,!1,\"SyntaxError\"===a.name||\"SyntaxError\"===a.message.substring(0,11)?2:0));q=null;n&&p>=h&&(window.onerror=null)};})();</script></head><body bgcolor=\"#fff\"><script nonce=\"/PAv5gYi3SlzsY+GeXe4Mg==\">(function(){var src='/images/nav_logo229.png';var iesg=false;document.body.onload = function(){window.n && window.n();if (document.images){new Image().src=src;}\n",
            "if (!iesg){document.f&&document.f.q.focus();document.gbqf&&document.gbqf.q.focus();}\n",
            "}\n",
            "})();</script><div id=\"mngb\"><div id=gbar><nobr><b class=gb1>Search</b> <a class=gb1 href=\"https://www.google.com/imghp?hl=en&tab=wi\">Images</a> <a class=gb1 href=\"https://maps.google.com/maps?hl=en&tab=wl\">Maps</a> <a class=gb1 href=\"https://play.google.com/?hl=en&tab=w8\">Play</a> <a class=gb1 href=\"https://www.youtube.com/?gl=US&tab=w1\">YouTube</a> <a class=gb1 href=\"https://news.google.com/?tab=wn\">News</a> <a class=gb1 href=\"https://mail.google.com/mail/?tab=wm\">Gmail</a> <a class=gb1 href=\"https://drive.google.com/?tab=wo\">Drive</a> <a class=gb1 style=\"text-decoration:none\" href=\"https://www.google.com/intl/en/about/products?tab=wh\"><u>More</u> &raquo;</a></nobr></div><div id=guser width=100%><nobr><span id=gbn class=gbi></span><span id=gbf class=gbf></span><span id=gbe></span><a href=\"http://www.google.com/history/optout?hl=en\" class=gb4>Web History</a> | <a  href=\"/preferences?hl=en\" class=gb4>Settings</a> | <a target=_top id=gb_70 href=\"https://accounts.google.com/ServiceLogin?hl=en&passive=true&continue=https://www.google.com/&ec=GAZAAQ\" class=gb4>Sign in</a></nobr></div><div class=gbh style=left:0></div><div class=gbh style=right:0></div></div><center><br clear=\"all\" id=\"lgpd\"><div id=\"lga\"><img alt=\"Google\" height=\"92\" src=\"/images/branding/googlelogo/1x/googlelogo_white_background_color_272x92dp.png\" style=\"padding:28px 0 14px\" width=\"272\" id=\"hplogo\"><br><br></div><form action=\"/search\" name=\"f\"><table cellpadding=\"0\" cellspacing=\"0\"><tr valign=\"top\"><td width=\"25%\">&nbsp;</td><td align=\"center\" nowrap=\"\"><input name=\"ie\" value=\"ISO-8859-1\" type=\"hidden\"><input value=\"en\" name=\"hl\" type=\"hidden\"><input name=\"source\" type=\"hidden\" value=\"hp\"><input name=\"biw\" type=\"hidden\"><input name=\"bih\" type=\"hidden\"><div class=\"ds\" style=\"height:32px;margin:4px 0\"><input class=\"lst\" style=\"margin:0;padding:5px 8px 0 6px;vertical-align:top;color:#000\" autocomplete=\"off\" value=\"\" title=\"Google Search\" maxlength=\"2048\" name=\"q\" size=\"57\"></div><br style=\"line-height:0\"><span class=\"ds\"><span class=\"lsbb\"><input class=\"lsb\" value=\"Google Search\" name=\"btnG\" type=\"submit\"></span></span><span class=\"ds\"><span class=\"lsbb\"><input class=\"lsb\" id=\"tsuid1\" value=\"I'm Feeling Lucky\" name=\"btnI\" type=\"submit\"><script nonce=\"/PAv5gYi3SlzsY+GeXe4Mg==\">(function(){var id='tsuid1';document.getElementById(id).onclick = function(){if (this.form.q.value){this.checked = 1;if (this.form.iflsig)this.form.iflsig.disabled = false;}\n",
            "else top.location='/doodles/';};})();</script><input value=\"AHkkrS4AAAAAYkwSdMUcdJmdq3oS1AK_Y9zjZMyGLRfC\" name=\"iflsig\" type=\"hidden\"></span></span></td><td class=\"fl sblc\" align=\"left\" nowrap=\"\" width=\"25%\"><a href=\"/advanced_search?hl=en&amp;authuser=0\">Advanced search</a></td></tr></table><input id=\"gbv\" name=\"gbv\" type=\"hidden\" value=\"1\"><script nonce=\"/PAv5gYi3SlzsY+GeXe4Mg==\">(function(){\n",
            "var a,b=\"1\";if(document&&document.getElementById)if(\"undefined\"!=typeof XMLHttpRequest)b=\"2\";else if(\"undefined\"!=typeof ActiveXObject){var c,d,e=[\"MSXML2.XMLHTTP.6.0\",\"MSXML2.XMLHTTP.3.0\",\"MSXML2.XMLHTTP\",\"Microsoft.XMLHTTP\"];for(c=0;d=e[c++];)try{new ActiveXObject(d),b=\"2\"}catch(h){}}a=b;if(\"2\"==a&&-1==location.search.indexOf(\"&gbv=2\")){var f=google.gbvu,g=document.getElementById(\"gbv\");g&&(g.value=a);f&&window.setTimeout(function(){location.href=f},0)};}).call(this);</script></form><div id=\"gac_scont\"></div><div style=\"font-size:83%;min-height:3.5em\"><br></div><span id=\"footer\"><div style=\"font-size:10pt\"><div style=\"margin:19px auto;text-align:center\" id=\"WqQANb\"><a href=\"/intl/en/ads/\">Advertising Programs</a><a href=\"/services/\">Business Solutions</a><a href=\"/intl/en/about.html\">About Google</a></div></div><p style=\"font-size:8pt;color:#70757a\">&copy; 2022 - <a href=\"/intl/en/policies/privacy/\">Privacy</a> - <a href=\"/intl/en/policies/terms/\">Terms</a></p></span></center><script nonce=\"/PAv5gYi3SlzsY+GeXe4Mg==\">(function(){window.google.cdo={height:757,width:1440};(function(){\n",
            "var a=window.innerWidth,b=window.innerHeight;if(!a||!b){var c=window.document,d=\"CSS1Compat\"==c.compatMode?c.documentElement:c.body;a=d.clientWidth;b=d.clientHeight}a&&b&&(a!=google.cdo.width||b!=google.cdo.height)&&google.log(\"\",\"\",\"/client_204?&atyp=i&biw=\"+a+\"&bih=\"+b+\"&ei=\"+google.kEI);}).call(this);})();</script> <script nonce=\"/PAv5gYi3SlzsY+GeXe4Mg==\">(function(){google.xjs={ck:'',cs:'',excm:[]};})();</script>  <script nonce=\"/PAv5gYi3SlzsY+GeXe4Mg==\">(function(){var u='/xjs/_/js/k\\x3dxjs.hp.en_US.DfcTcxDpFPQ.O/am\\x3dAOAJAIAEIAE/d\\x3d1/ed\\x3d1/esmo\\x3d1/rs\\x3dACT90oF_2ZCH-6H_fdU7aPKP6Nm-IJoFww/m\\x3dsb_he,d';\n",
            "var d=this||self,e=function(a){return a};var g;var l=function(a,b){this.g=b===h?a:\"\"};l.prototype.toString=function(){return this.g+\"\"};var h={};\n",
            "function n(){var a=u;google.lx=function(){p(a);google.lx=function(){}};google.bx||google.lx()}\n",
            "function p(a){google.timers&&google.timers.load&&google.tick&&google.tick(\"load\",\"xjsls\");var b=document;var c=\"SCRIPT\";\"application/xhtml+xml\"===b.contentType&&(c=c.toLowerCase());c=b.createElement(c);if(void 0===g){b=null;var k=d.trustedTypes;if(k&&k.createPolicy){try{b=k.createPolicy(\"goog#html\",{createHTML:e,createScript:e,createScriptURL:e})}catch(q){d.console&&d.console.error(q.message)}g=b}else g=b}a=(b=g)?b.createScriptURL(a):a;a=new l(a,h);c.src=a instanceof l&&a.constructor===l?a.g:\"type_error:TrustedResourceUrl\";var f,m;(f=(a=null==(m=(f=(c.ownerDocument&&c.ownerDocument.defaultView||window).document).querySelector)?void 0:m.call(f,\"script[nonce]\"))?a.nonce||a.getAttribute(\"nonce\")||\"\":\"\")&&c.setAttribute(\"nonce\",f);document.body.appendChild(c);google.psa=!0};google.xjsu=u;setTimeout(function(){n()},0);})();function _DumpException(e){throw e;}\n",
            "function _F_installCss(c){}\n",
            "(function(){google.jl={attn:false,blt:'none',chnk:0,dw:false,dwu:true,emtn:0,end:0,ine:false,injs:'none',injt:0,lls:'default',pdt:0,rep:0,snet:true,strt:0,ubm:false,uwp:true};})();(function(){var pmc='{\\x22d\\x22:{},\\x22sb_he\\x22:{\\x22agen\\x22:true,\\x22cgen\\x22:true,\\x22client\\x22:\\x22heirloom-hp\\x22,\\x22dh\\x22:true,\\x22dhqt\\x22:true,\\x22ds\\x22:\\x22\\x22,\\x22ffql\\x22:\\x22en\\x22,\\x22fl\\x22:true,\\x22host\\x22:\\x22google.com\\x22,\\x22isbh\\x22:28,\\x22jsonp\\x22:true,\\x22msgs\\x22:{\\x22cibl\\x22:\\x22Clear Search\\x22,\\x22dym\\x22:\\x22Did you mean:\\x22,\\x22lcky\\x22:\\x22I\\\\u0026#39;m Feeling Lucky\\x22,\\x22lml\\x22:\\x22Learn more\\x22,\\x22oskt\\x22:\\x22Input tools\\x22,\\x22psrc\\x22:\\x22This search was removed from your \\\\u003Ca href\\x3d\\\\\\x22/history\\\\\\x22\\\\u003EWeb History\\\\u003C/a\\\\u003E\\x22,\\x22psrl\\x22:\\x22Remove\\x22,\\x22sbit\\x22:\\x22Search by image\\x22,\\x22srch\\x22:\\x22Google Search\\x22},\\x22ovr\\x22:{},\\x22pq\\x22:\\x22\\x22,\\x22refpd\\x22:true,\\x22rfs\\x22:[],\\x22sbas\\x22:\\x220 3px 8px 0 rgba(0,0,0,0.2),0 0 0 1px rgba(0,0,0,0.08)\\x22,\\x22sbpl\\x22:16,\\x22sbpr\\x22:16,\\x22scd\\x22:10,\\x22stok\\x22:\\x22gKSEMJk0kQv3FsXsP6UW4vurDf4\\x22,\\x22uhde\\x22:false}}';google.pmc=JSON.parse(pmc);})();</script>        </body></html>\n"
          ]
        }
      ]
    },
    {
      "cell_type": "code",
      "source": [
        "import requests\n",
        "\n",
        "r = requests.get(\"https://www.google.com/\") # Make a request to url\n",
        "\n",
        "txt = r.text\n",
        "stat_code = r.status_code\n",
        "\n",
        "print(stat_code, txt) # print the result"
      ],
      "metadata": {
        "colab": {
          "base_uri": "https://localhost:8080/"
        },
        "id": "hyPHjV0Ti_yg",
        "outputId": "a2d40b5e-2d0b-4068-f435-2bad075d6d72"
      },
      "execution_count": null,
      "outputs": [
        {
          "output_type": "stream",
          "name": "stdout",
          "text": [
            "200 <!doctype html><html itemscope=\"\" itemtype=\"http://schema.org/WebPage\" lang=\"en\"><head><meta content=\"Search the world's information, including webpages, images, videos and more. Google has many special features to help you find exactly what you're looking for.\" name=\"description\"><meta content=\"noodp\" name=\"robots\"><meta content=\"text/html; charset=UTF-8\" http-equiv=\"Content-Type\"><meta content=\"/images/branding/googleg/1x/googleg_standard_color_128dp.png\" itemprop=\"image\"><title>Google</title><script nonce=\"qAkXXfKHehaOsiSVpFkAVQ==\">(function(){window.google={kEI:'Fj9EYpXIA8en0PEPn7m22AY',kEXPI:'0,1302536,56873,1709,4350,206,4804,926,1390,383,246,5,1354,4013,1237,1122516,1197711,380780,16114,28684,17572,4859,1361,9291,3023,17585,4020,978,13228,3847,10622,22741,5081,1593,1279,2742,149,562,541,840,1983,213,4101,3514,606,2023,1777,520,6344,8326,3227,1989,856,9,17448,11625,4695,1851,2614,12710,432,3,346,1244,1,5445,148,11323,2652,4,1528,2304,6462,577,22023,3050,2658,7357,30,13628,2980,1457,9358,5993,1435,651,5152,2554,4094,4052,3,3541,1,11943,2768,2096,25347,2,14022,1931,442,342,255,2993,1557,126,617,5853,10463,1160,3482,2197,1020,2381,2719,18232,46,1,8,7735,4568,6259,3020,20398,1252,5835,14967,1539,2794,2065,139,2083,1802,1395,445,2,2,1,3293,3101,4396,513,12480,995,1431,10,1,412,8155,113,2453,4016,568,230,1,2,3,182,2,1290,1563,5214,2215,421,881,1971,936,7341,4306,25,1,8,107,174,1449,3,1,2747,375,2707,85,1286,489,921,914,219,567,172,601,3414,553,30,933,484,20,415,834,224,743,749,53,554,54,750,32,1745,474,254,117,996,610,87,2,176,1043,1337,101,5,199,107,1907,594,366,328,7,789,561,450,1136,761,1211,4,108,5452353,953,364,5994826,2801868,882,444,3,1877,1,2562,1,748,141,795,563,1,4265,1,1,2,1331,4142,2609,155,17,13,72,139,4,2,20,2,169,13,19,46,5,39,96,548,29,2,2,1,2,1,2,2,7,4,1,2,2,2,2,2,2,353,513,186,1,1,158,3,2,2,2,2,2,4,2,3,3,269,1601,141,1002,185,16,79,2,22,4,4,2,3,10,1,103,2,1,2,7,1,18894005,5057530,4038574,3,3112,3,450,1964,2935,159,1358,4726,3,2173,910,3165,1006,7,231,2174,7,1331,767401',kBL:'zIb2'};google.sn='webhp';google.kHL='en';})();(function(){\n",
            "var f=this||self;var h,k=[];function l(a){for(var b;a&&(!a.getAttribute||!(b=a.getAttribute(\"eid\")));)a=a.parentNode;return b||h}function m(a){for(var b=null;a&&(!a.getAttribute||!(b=a.getAttribute(\"leid\")));)a=a.parentNode;return b}\n",
            "function n(a,b,c,d,g){var e=\"\";c||-1!==b.search(\"&ei=\")||(e=\"&ei=\"+l(d),-1===b.search(\"&lei=\")&&(d=m(d))&&(e+=\"&lei=\"+d));d=\"\";!c&&f._cshid&&-1===b.search(\"&cshid=\")&&\"slh\"!==a&&(d=\"&cshid=\"+f._cshid);c=c||\"/\"+(g||\"gen_204\")+\"?atyp=i&ct=\"+a+\"&cad=\"+b+e+\"&zx=\"+Date.now()+d;/^http:/i.test(c)&&\"https:\"===window.location.protocol&&(google.ml&&google.ml(Error(\"a\"),!1,{src:c,glmm:1}),c=\"\");return c};h=google.kEI;google.getEI=l;google.getLEI=m;google.ml=function(){return null};google.log=function(a,b,c,d,g){if(c=n(a,b,c,d,g)){a=new Image;var e=k.length;k[e]=a;a.onerror=a.onload=a.onabort=function(){delete k[e]};a.src=c}};google.logUrl=n;}).call(this);(function(){\n",
            "google.y={};google.sy=[];google.x=function(a,b){if(a)var c=a.id;else{do c=Math.random();while(google.y[c])}google.y[c]=[a,b];return!1};google.sx=function(a){google.sy.push(a)};google.lm=[];google.plm=function(a){google.lm.push.apply(google.lm,a)};google.lq=[];google.load=function(a,b,c){google.lq.push([[a],b,c])};google.loadAll=function(a,b){google.lq.push([a,b])};google.bx=!1;google.lx=function(){};}).call(this);google.f={};(function(){\n",
            "document.documentElement.addEventListener(\"submit\",function(b){var a;if(a=b.target){var c=a.getAttribute(\"data-submitfalse\");a=\"1\"===c||\"q\"===c&&!a.elements.q.value?!0:!1}else a=!1;a&&(b.preventDefault(),b.stopPropagation())},!0);document.documentElement.addEventListener(\"click\",function(b){var a;a:{for(a=b.target;a&&a!==document.documentElement;a=a.parentElement)if(\"A\"===a.tagName){a=\"1\"===a.getAttribute(\"data-nohref\");break a}a=!1}a&&b.preventDefault()},!0);}).call(this);</script><style>#gbar,#guser{font-size:13px;padding-top:1px !important;}#gbar{height:22px}#guser{padding-bottom:7px !important;text-align:right}.gbh,.gbd{border-top:1px solid #c9d7f1;font-size:1px}.gbh{height:0;position:absolute;top:24px;width:100%}@media all{.gb1{height:22px;margin-right:.5em;vertical-align:top}#gbar{float:left}}a.gb1,a.gb4{text-decoration:underline !important}a.gb1,a.gb4{color:#00c !important}.gbi .gb4{color:#dd8e27 !important}.gbf .gb4{color:#900 !important}\n",
            "</style><style>body,td,a,p,.h{font-family:arial,sans-serif}body{margin:0;overflow-y:scroll}#gog{padding:3px 8px 0}td{line-height:.8em}.gac_m td{line-height:17px}form{margin-bottom:20px}.h{color:#1558d6}em{font-weight:bold;font-style:normal}.lst{height:25px;width:496px}.gsfi,.lst{font:18px arial,sans-serif}.gsfs{font:17px arial,sans-serif}.ds{display:inline-box;display:inline-block;margin:3px 0 4px;margin-left:4px}input{font-family:inherit}body{background:#fff;color:#000}a{color:#4b11a8;text-decoration:none}a:hover,a:active{text-decoration:underline}.fl a{color:#1558d6}a:visited{color:#4b11a8}.sblc{padding-top:5px}.sblc a{display:block;margin:2px 0;margin-left:13px;font-size:11px}.lsbb{background:#f8f9fa;border:solid 1px;border-color:#dadce0 #70757a #70757a #dadce0;height:30px}.lsbb{display:block}#WqQANb a{display:inline-block;margin:0 12px}.lsb{background:url(/images/nav_logo229.png) 0 -261px repeat-x;border:none;color:#000;cursor:pointer;height:30px;margin:0;outline:0;font:15px arial,sans-serif;vertical-align:top}.lsb:active{background:#dadce0}.lst:focus{outline:none}</style><script nonce=\"qAkXXfKHehaOsiSVpFkAVQ==\">(function(){window.google.erd={jsr:1,bv:1555,de:true};\n",
            "var f=this||self;var g,h=null!=(g=f.mei)?g:1,m,n=null!=(m=f.sdo)?m:!0,p=0,q,r=google.erd,u=r.jsr;google.ml=function(a,b,d,k,c){c=void 0===c?2:c;b&&(q=a&&a.message);if(google.dl)return google.dl(a,c,d),null;if(0>u){window.console&&console.error(a,d);if(-2===u)throw a;b=!1}else b=!a||!a.message||\"Error loading script\"===a.message||p>=h&&!k?!1:!0;if(!b)return null;p++;d=d||{};var e=c;c=encodeURIComponent;b=\"/gen_204?atyp=i&ei=\"+c(google.kEI);google.kEXPI&&(b+=\"&jexpid=\"+c(google.kEXPI));b+=\"&srcpg=\"+c(google.sn)+\"&jsr=\"+c(r.jsr)+\"&bver=\"+c(r.bv)+(\"&jsel=\"+e);e=a.lineNumber;void 0!==e&&(b+=\"&line=\"+\n",
            "e);var l=a.fileName;l&&(b+=\"&script=\"+c(l),e&&l===window.location.href&&(e=document.documentElement.outerHTML.split(\"\\n\")[e],b+=\"&cad=\"+c(e?e.substring(0,300):\"No script found.\")));for(var t in d)b+=\"&\",b+=c(t),b+=\"=\",b+=c(d[t]);b=b+\"&emsg=\"+c(a.name+\": \"+a.message);b=b+\"&jsst=\"+c(a.stack||\"N/A\");12288<=b.length&&(b=b.substr(0,12288));a=b;k||google.log(0,\"\",a);return a};window.onerror=function(a,b,d,k,c){q!==a&&(a=c instanceof Error?c:Error(a),void 0===d||\"lineNumber\"in a||(a.lineNumber=d),void 0===b||\"fileName\"in a||(a.fileName=b),google.ml(a,!1,void 0,!1,\"SyntaxError\"===a.name||\"SyntaxError\"===a.message.substring(0,11)?2:0));q=null;n&&p>=h&&(window.onerror=null)};})();</script></head><body bgcolor=\"#fff\"><script nonce=\"qAkXXfKHehaOsiSVpFkAVQ==\">(function(){var src='/images/nav_logo229.png';var iesg=false;document.body.onload = function(){window.n && window.n();if (document.images){new Image().src=src;}\n",
            "if (!iesg){document.f&&document.f.q.focus();document.gbqf&&document.gbqf.q.focus();}\n",
            "}\n",
            "})();</script><div id=\"mngb\"><div id=gbar><nobr><b class=gb1>Search</b> <a class=gb1 href=\"https://www.google.com/imghp?hl=en&tab=wi\">Images</a> <a class=gb1 href=\"https://maps.google.com/maps?hl=en&tab=wl\">Maps</a> <a class=gb1 href=\"https://play.google.com/?hl=en&tab=w8\">Play</a> <a class=gb1 href=\"https://www.youtube.com/?gl=US&tab=w1\">YouTube</a> <a class=gb1 href=\"https://news.google.com/?tab=wn\">News</a> <a class=gb1 href=\"https://mail.google.com/mail/?tab=wm\">Gmail</a> <a class=gb1 href=\"https://drive.google.com/?tab=wo\">Drive</a> <a class=gb1 style=\"text-decoration:none\" href=\"https://www.google.com/intl/en/about/products?tab=wh\"><u>More</u> &raquo;</a></nobr></div><div id=guser width=100%><nobr><span id=gbn class=gbi></span><span id=gbf class=gbf></span><span id=gbe></span><a href=\"http://www.google.com/history/optout?hl=en\" class=gb4>Web History</a> | <a  href=\"/preferences?hl=en\" class=gb4>Settings</a> | <a target=_top id=gb_70 href=\"https://accounts.google.com/ServiceLogin?hl=en&passive=true&continue=https://www.google.com/&ec=GAZAAQ\" class=gb4>Sign in</a></nobr></div><div class=gbh style=left:0></div><div class=gbh style=right:0></div></div><center><br clear=\"all\" id=\"lgpd\"><div id=\"lga\"><img alt=\"Google\" height=\"92\" src=\"/images/branding/googlelogo/1x/googlelogo_white_background_color_272x92dp.png\" style=\"padding:28px 0 14px\" width=\"272\" id=\"hplogo\"><br><br></div><form action=\"/search\" name=\"f\"><table cellpadding=\"0\" cellspacing=\"0\"><tr valign=\"top\"><td width=\"25%\">&nbsp;</td><td align=\"center\" nowrap=\"\"><input name=\"ie\" value=\"ISO-8859-1\" type=\"hidden\"><input value=\"en\" name=\"hl\" type=\"hidden\"><input name=\"source\" type=\"hidden\" value=\"hp\"><input name=\"biw\" type=\"hidden\"><input name=\"bih\" type=\"hidden\"><div class=\"ds\" style=\"height:32px;margin:4px 0\"><input class=\"lst\" style=\"margin:0;padding:5px 8px 0 6px;vertical-align:top;color:#000\" autocomplete=\"off\" value=\"\" title=\"Google Search\" maxlength=\"2048\" name=\"q\" size=\"57\"></div><br style=\"line-height:0\"><span class=\"ds\"><span class=\"lsbb\"><input class=\"lsb\" value=\"Google Search\" name=\"btnG\" type=\"submit\"></span></span><span class=\"ds\"><span class=\"lsbb\"><input class=\"lsb\" id=\"tsuid1\" value=\"I'm Feeling Lucky\" name=\"btnI\" type=\"submit\"><script nonce=\"qAkXXfKHehaOsiSVpFkAVQ==\">(function(){var id='tsuid1';document.getElementById(id).onclick = function(){if (this.form.q.value){this.checked = 1;if (this.form.iflsig)this.form.iflsig.disabled = false;}\n",
            "else top.location='/doodles/';};})();</script><input value=\"AHkkrS4AAAAAYkRNJvFO9ZiQXdg5lFc619Q_J2F9m8kZ\" name=\"iflsig\" type=\"hidden\"></span></span></td><td class=\"fl sblc\" align=\"left\" nowrap=\"\" width=\"25%\"><a href=\"/advanced_search?hl=en&amp;authuser=0\">Advanced search</a></td></tr></table><input id=\"gbv\" name=\"gbv\" type=\"hidden\" value=\"1\"><script nonce=\"qAkXXfKHehaOsiSVpFkAVQ==\">(function(){\n",
            "var a,b=\"1\";if(document&&document.getElementById)if(\"undefined\"!=typeof XMLHttpRequest)b=\"2\";else if(\"undefined\"!=typeof ActiveXObject){var c,d,e=[\"MSXML2.XMLHTTP.6.0\",\"MSXML2.XMLHTTP.3.0\",\"MSXML2.XMLHTTP\",\"Microsoft.XMLHTTP\"];for(c=0;d=e[c++];)try{new ActiveXObject(d),b=\"2\"}catch(h){}}a=b;if(\"2\"==a&&-1==location.search.indexOf(\"&gbv=2\")){var f=google.gbvu,g=document.getElementById(\"gbv\");g&&(g.value=a);f&&window.setTimeout(function(){location.href=f},0)};}).call(this);</script></form><div id=\"gac_scont\"></div><div style=\"font-size:83%;min-height:3.5em\"><br></div><span id=\"footer\"><div style=\"font-size:10pt\"><div style=\"margin:19px auto;text-align:center\" id=\"WqQANb\"><a href=\"/intl/en/ads/\">Advertising Programs</a><a href=\"/services/\">Business Solutions</a><a href=\"/intl/en/about.html\">About Google</a></div></div><p style=\"font-size:8pt;color:#70757a\">&copy; 2022 - <a href=\"/intl/en/policies/privacy/\">Privacy</a> - <a href=\"/intl/en/policies/terms/\">Terms</a></p></span></center><script nonce=\"qAkXXfKHehaOsiSVpFkAVQ==\">(function(){window.google.cdo={height:757,width:1440};(function(){\n",
            "var a=window.innerWidth,b=window.innerHeight;if(!a||!b){var c=window.document,d=\"CSS1Compat\"==c.compatMode?c.documentElement:c.body;a=d.clientWidth;b=d.clientHeight}a&&b&&(a!=google.cdo.width||b!=google.cdo.height)&&google.log(\"\",\"\",\"/client_204?&atyp=i&biw=\"+a+\"&bih=\"+b+\"&ei=\"+google.kEI);}).call(this);})();</script> <script nonce=\"qAkXXfKHehaOsiSVpFkAVQ==\">(function(){google.xjs={ck:'',cs:'',excm:[]};})();</script>  <script nonce=\"qAkXXfKHehaOsiSVpFkAVQ==\">(function(){var u='/xjs/_/js/k\\x3dxjs.hp.en_US.DfcTcxDpFPQ.O/am\\x3dAOAJAIAEIAE/d\\x3d1/ed\\x3d1/esmo\\x3d1/rs\\x3dACT90oF_2ZCH-6H_fdU7aPKP6Nm-IJoFww/m\\x3dsb_he,d';\n",
            "var d=this||self,e=function(a){return a};var g;var l=function(a,b){this.g=b===h?a:\"\"};l.prototype.toString=function(){return this.g+\"\"};var h={};\n",
            "function n(){var a=u;google.lx=function(){p(a);google.lx=function(){}};google.bx||google.lx()}\n",
            "function p(a){google.timers&&google.timers.load&&google.tick&&google.tick(\"load\",\"xjsls\");var b=document;var c=\"SCRIPT\";\"application/xhtml+xml\"===b.contentType&&(c=c.toLowerCase());c=b.createElement(c);if(void 0===g){b=null;var k=d.trustedTypes;if(k&&k.createPolicy){try{b=k.createPolicy(\"goog#html\",{createHTML:e,createScript:e,createScriptURL:e})}catch(q){d.console&&d.console.error(q.message)}g=b}else g=b}a=(b=g)?b.createScriptURL(a):a;a=new l(a,h);c.src=a instanceof l&&a.constructor===l?a.g:\"type_error:TrustedResourceUrl\";var f,m;(f=(a=null==(m=(f=(c.ownerDocument&&c.ownerDocument.defaultView||window).document).querySelector)?void 0:m.call(f,\"script[nonce]\"))?a.nonce||a.getAttribute(\"nonce\")||\"\":\"\")&&c.setAttribute(\"nonce\",f);document.body.appendChild(c);google.psa=!0};google.xjsu=u;setTimeout(function(){n()},0);})();function _DumpException(e){throw e;}\n",
            "function _F_installCss(c){}\n",
            "(function(){google.jl={attn:false,blt:'none',chnk:0,dw:false,dwu:true,emtn:0,end:0,ine:false,injs:'none',injt:0,lls:'default',pdt:0,rep:0,snet:true,strt:0,ubm:false,uwp:true};})();(function(){var pmc='{\\x22d\\x22:{},\\x22sb_he\\x22:{\\x22agen\\x22:true,\\x22cgen\\x22:true,\\x22client\\x22:\\x22heirloom-hp\\x22,\\x22dh\\x22:true,\\x22dhqt\\x22:true,\\x22ds\\x22:\\x22\\x22,\\x22ffql\\x22:\\x22en\\x22,\\x22fl\\x22:true,\\x22host\\x22:\\x22google.com\\x22,\\x22isbh\\x22:28,\\x22jsonp\\x22:true,\\x22msgs\\x22:{\\x22cibl\\x22:\\x22Clear Search\\x22,\\x22dym\\x22:\\x22Did you mean:\\x22,\\x22lcky\\x22:\\x22I\\\\u0026#39;m Feeling Lucky\\x22,\\x22lml\\x22:\\x22Learn more\\x22,\\x22oskt\\x22:\\x22Input tools\\x22,\\x22psrc\\x22:\\x22This search was removed from your \\\\u003Ca href\\x3d\\\\\\x22/history\\\\\\x22\\\\u003EWeb History\\\\u003C/a\\\\u003E\\x22,\\x22psrl\\x22:\\x22Remove\\x22,\\x22sbit\\x22:\\x22Search by image\\x22,\\x22srch\\x22:\\x22Google Search\\x22},\\x22ovr\\x22:{},\\x22pq\\x22:\\x22\\x22,\\x22refpd\\x22:true,\\x22rfs\\x22:[],\\x22sbas\\x22:\\x220 3px 8px 0 rgba(0,0,0,0.2),0 0 0 1px rgba(0,0,0,0.08)\\x22,\\x22sbpl\\x22:16,\\x22sbpr\\x22:16,\\x22scd\\x22:10,\\x22stok\\x22:\\x22TinztmuYswKEl7ngNviNajhmgiE\\x22,\\x22uhde\\x22:false}}';google.pmc=JSON.parse(pmc);})();</script>        </body></html>\n"
          ]
        }
      ]
    },
    {
      "cell_type": "markdown",
      "source": [
        "# ***Extracting title with BeautifulSoup***"
      ],
      "metadata": {
        "id": "FS2_T6HOjhzH"
      }
    },
    {
      "cell_type": "markdown",
      "source": [
        "In this session, we’ll be using a library called ***BeautifulSoup*** in Python to do web scraping. \n",
        "\n",
        "Some ***features that make BeautifulSoup a powerful*** solution are:\n",
        "\n",
        "*   It provides a lot of simple methods and Pythonic idioms for navigating, searching, and modifying a DOM tree. \n",
        "\n",
        "*   It doesn't take much code to write an application\n",
        "\n",
        "*   Beautiful Soup sits on top of popular Python parsers like lxml and html5lib, allowing you to try out different parsing strategies or trade speed for flexibility.\n",
        "\n",
        "\n",
        "**Basically, BeautifulSoup can parse anything on the web you give it.**\n",
        "\n",
        "***Here’s a simple example of BeautifulSoup:***"
      ],
      "metadata": {
        "id": "fG4YKLKpjso0"
      }
    },
    {
      "cell_type": "code",
      "source": [
        "from bs4 import BeautifulSoup\n",
        "import requests\n",
        "\n",
        "page = requests.get(\"https://codedamn.com\")\n",
        "soup = BeautifulSoup(page.content, 'html.parser')\n",
        "\n",
        "title = soup.title.text\n",
        "\n",
        "print(title)"
      ],
      "metadata": {
        "colab": {
          "base_uri": "https://localhost:8080/"
        },
        "id": "HODS6xW0kWf8",
        "outputId": "c3df2a10-82fa-4274-acca-869c67fb9d76"
      },
      "execution_count": null,
      "outputs": [
        {
          "output_type": "stream",
          "name": "stdout",
          "text": [
            "Learn full-stack web development with interactive courses | codedamn\n"
          ]
        }
      ]
    },
    {
      "cell_type": "markdown",
      "source": [
        "**Check the type of object**"
      ],
      "metadata": {
        "id": "yyte2O0p9alP"
      }
    },
    {
      "cell_type": "code",
      "source": [
        "type(soup)"
      ],
      "metadata": {
        "colab": {
          "base_uri": "https://localhost:8080/"
        },
        "id": "orTIsU-_9cfn",
        "outputId": "eddf5d94-6aab-49b1-9e38-aeabe346ebef"
      },
      "execution_count": null,
      "outputs": [
        {
          "output_type": "execute_result",
          "data": {
            "text/plain": [
              "bs4.BeautifulSoup"
            ]
          },
          "metadata": {},
          "execution_count": 4
        }
      ]
    },
    {
      "cell_type": "markdown",
      "source": [
        "**View the data in pretty format**\n",
        "\n",
        "I will now print out the HTML content of the webpage, formatted nicely, using the prettify method on the BeautifulSoup object. It gives the visual representation of the parsed tree created from the raw html content."
      ],
      "metadata": {
        "id": "Ng9OvOVU8uPf"
      }
    },
    {
      "cell_type": "code",
      "source": [
        "from bs4 import BeautifulSoup\n",
        "import requests\n",
        "\n",
        "page = requests.get(\"https://codedamn.com\")\n",
        "soup = BeautifulSoup(page.content, 'html.parser')\n",
        "\n",
        "print(soup.prettify())"
      ],
      "metadata": {
        "id": "Fz5esev58xrx"
      },
      "execution_count": null,
      "outputs": []
    },
    {
      "cell_type": "markdown",
      "source": [
        "# ***Extract body and head***"
      ],
      "metadata": {
        "id": "bKoZ8ve_alqj"
      }
    },
    {
      "cell_type": "markdown",
      "source": [
        "It is equally easy to extract certain sections too.\n",
        "\n",
        "You also saw that you have to call **.text** on these to get the **string**, but you can print them ***without calling .text*** too, and it will give you the ***full markup***. \n",
        "\n",
        "*Try to run the example below:*"
      ],
      "metadata": {
        "id": "Vhfn8DCdZ-O0"
      }
    },
    {
      "cell_type": "code",
      "source": [
        "import requests\n",
        "from bs4 import BeautifulSoup\n",
        "\n",
        "page = requests.get(\"https://codedamn.com\")\n",
        "\n",
        "soup = BeautifulSoup(page.content, 'html.parser')\n",
        "\n",
        "page_head = soup.head\n",
        "page_body = soup.body\n",
        "\n",
        "print(page_head, page_body)"
      ],
      "metadata": {
        "id": "w88WWsabanmD"
      },
      "execution_count": null,
      "outputs": []
    },
    {
      "cell_type": "markdown",
      "source": [
        "# ***Selecting elements with BeautifulSoup***"
      ],
      "metadata": {
        "id": "yzTUMNikaq3Z"
      }
    },
    {
      "cell_type": "markdown",
      "source": [
        "How to select DOM elements with BeautifulSoup methods.\n",
        "\n",
        "You can reach down the ***DOM tree*** just like how you will select elements with CSS. \n",
        "\n",
        "Let's look at an example:"
      ],
      "metadata": {
        "id": "BTKLI5GKw_DH"
      }
    },
    {
      "cell_type": "code",
      "source": [
        "import requests\n",
        "from bs4 import BeautifulSoup\n",
        "\n",
        "# Make a request\n",
        "page = requests.get(\"https://codedamn-classrooms.github.io/webscraper-python-codedamn-classroom-website/\")\n",
        "soup = BeautifulSoup(page.content, 'html.parser')\n",
        "\n",
        "# Extract first <h1>(...)</h1> text\n",
        "first_h1 = soup.select('h1')[1].text\n",
        "\n",
        "print(first_h1)"
      ],
      "metadata": {
        "colab": {
          "base_uri": "https://localhost:8080/"
        },
        "id": "Rdcfag7Fw-Ne",
        "outputId": "b1af488e-b29e-4aba-8f37-17000294ddf2"
      },
      "execution_count": null,
      "outputs": [
        {
          "output_type": "stream",
          "name": "stdout",
          "text": [
            "E-commerce training site\n"
          ]
        }
      ]
    },
    {
      "cell_type": "markdown",
      "source": [
        "***Note:*** **.select** returns a **Python list of all the elements**. This is why you selected only the **first element** here with the **[0] index**."
      ],
      "metadata": {
        "id": "VvD1yuVY1ZK4"
      }
    },
    {
      "cell_type": "markdown",
      "source": [
        "# Practice Test - 1: Display the list of all ***h1*** tags' text and print the text inside the 7th ***p*** tag.\n",
        "\n",
        "URL: https://codedamn-classrooms.github.io/webscraper-python-codedamn-classroom-website/"
      ],
      "metadata": {
        "id": "ywmVzKbYWKpR"
      }
    },
    {
      "cell_type": "markdown",
      "source": [
        "***Hints:***\n",
        "*   **Create a variable all_h1_tags. Set it to empty list.**\n",
        "*   **Use .select to select all the *h1* tags and store the text of those h1 inside all_h1_tags list.**\n",
        "*   **Create a variable seventh_p_text and store and print the text inside the 7th *p* element (index 6)**"
      ],
      "metadata": {
        "id": "ihCPLZU1W86P"
      }
    },
    {
      "cell_type": "code",
      "source": [
        "#@title Solution to above Practice Test {display-mode: \"form\"}\n",
        "import requests\n",
        "from bs4 import BeautifulSoup\n",
        "# Make a request\n",
        "page = requests.get(\"https://codedamn-classrooms.github.io/webscraper-python-codedamn-classroom-website/\")\n",
        "soup = BeautifulSoup(page.content, 'html.parser')\n",
        "\n",
        "# Create all_h1_tags as empty list\n",
        "all_h1_tags = []\n",
        "\n",
        "# Set all_h1_tags to all h1 tags of the soup\n",
        "for element in soup.select('h1'):\n",
        "    all_h1_tags.append(element.text)\n",
        "\n",
        "# Create seventh_p_text and set it to 7th p element text of the page\n",
        "seventh_p_text = soup.select('p')[6].text\n",
        "\n",
        "print(all_h1_tags, seventh_p_text)"
      ],
      "metadata": {
        "id": "MPLVB7kKXuFg",
        "colab": {
          "base_uri": "https://localhost:8080/"
        },
        "outputId": "fa52bc84-c3d6-487e-d21c-7de7e9c2df10"
      },
      "execution_count": null,
      "outputs": [
        {
          "output_type": "stream",
          "name": "stdout",
          "text": [
            "['Test Sites', 'E-commerce training site'] 7 reviews\n"
          ]
        }
      ]
    },
    {
      "cell_type": "markdown",
      "source": [
        "***Let's go ahead and extract the top items scraped from the ***URL: https://codedamn-classrooms.github.io/webscraper-python-codedamn-classroom-website/\n",
        "\n",
        "*   In this challenge, the task is to scrape items names and store them in a list called top_items. \n",
        "*   You will also extract out the reviews for these items as well.\n",
        "\n",
        "Steps to complete the challenge:\n",
        "\n",
        "*   Use **.select** to **extract the titles**. (Hint: one selector for product titles could be a.title)\n",
        "\n",
        "*   Use **.select** to **extract the review count label** for those product titles. (Hint: one selector for reviews could be div.ratings) \n",
        "\n",
        "*   Note: this is a complete label (i.e. 2 reviews) and not just a number.\n",
        "\n",
        "*   Create a new dictionary in the format:\n",
        "      info = {\n",
        "        \"title\": 'Asus AsusPro Adv...   '.strip(),\n",
        "        \"review\": '2 reviews\\n\\n\\n'.strip()\n",
        "      }\n",
        "\n",
        "*   Use the strip method to remove any extra newlines/whitespaces you might have in the output. This is important to pass this lab.\n",
        "\n",
        "*   Append this dictionary in a list called top_items\n",
        "\n",
        "*   Print this list at the end"
      ],
      "metadata": {
        "id": "zVV0b0PVa8wp"
      }
    },
    {
      "cell_type": "code",
      "source": [
        "import requests\n",
        "from bs4 import BeautifulSoup\n",
        "\n",
        "page = requests.get('https://codedamn-classrooms.github.io/webscraper-python-codedamn-classroom-website/')\n",
        "\n",
        "soup = BeautifulSoup(page.content,'html.parser')\n",
        "\n",
        "top_item = []\n",
        "\n",
        "products = soup.select('div.thumbnail')\n",
        "\n",
        "for ele in products:\n",
        "  ele_title = ele.select('h4 > a.title')[0].text\n",
        "  ele_review = ele.select('div.ratings')[0].text\n",
        "\n",
        "  info = {\n",
        "      'title' : ele_title.strip(),\n",
        "      'review' : ele_review.strip()\n",
        "  }\n",
        "\n",
        "  top_item.append(info)\n",
        "\n",
        "print(top_item)"
      ],
      "metadata": {
        "colab": {
          "base_uri": "https://localhost:8080/"
        },
        "id": "yk0WqL1C_fZ6",
        "outputId": "f921fc2c-da4e-4787-fe47-64a80f4ddcbf"
      },
      "execution_count": null,
      "outputs": [
        {
          "output_type": "stream",
          "name": "stdout",
          "text": [
            "[{'title': 'Asus AsusPro Adv...', 'review': '7 reviews'}, {'title': 'Asus ROG Strix G...', 'review': '4 reviews'}, {'title': 'Acer Aspire 3 A3...', 'review': '2 reviews'}]\n"
          ]
        }
      ]
    },
    {
      "cell_type": "markdown",
      "source": [
        "# Extracting Links"
      ],
      "metadata": {
        "id": "US7PWA9cDdnU"
      }
    },
    {
      "cell_type": "markdown",
      "source": [
        "So far... We have seen how to extract the text, or rather innerText of elements. \n",
        "\n",
        "**Let's see how to extract attributes by extracting links from the page.**"
      ],
      "metadata": {
        "id": "xEOQSlj9N6gT"
      }
    },
    {
      "cell_type": "code",
      "source": [
        "import requests\n",
        "from bs4 import BeautifulSoup\n",
        "# Make a request\n",
        "page = requests.get(\"https://codedamn-classrooms.github.io/webscraper-python-codedamn-classroom-website/\")\n",
        "soup = BeautifulSoup(page.content, 'html.parser')\n",
        "\n",
        "# Create top_items as empty list\n",
        "image_data = []\n",
        "\n",
        "# Extract and store in top_items according to instructions on the left\n",
        "images = soup.select('img')\n",
        "for image in images:\n",
        "    src = image.get('src')\n",
        "    alt = image.get('alt')\n",
        "    image_data.append({\"src\": src, \"alt\": alt})\n",
        "\n",
        "print(image_data)"
      ],
      "metadata": {
        "colab": {
          "base_uri": "https://localhost:8080/"
        },
        "id": "6z8WmxdfDftB",
        "outputId": "13bbb2ab-c492-47fd-8bf4-8ee54a31918a"
      },
      "execution_count": null,
      "outputs": [
        {
          "output_type": "stream",
          "name": "stdout",
          "text": [
            "[{'src': '/webscraper-python-codedamn-classroom-website/logo_white.svg', 'alt': 'Web Scraper'}, {'src': '/webscraper-python-codedamn-classroom-website/cart2.png', 'alt': 'item'}, {'src': '/webscraper-python-codedamn-classroom-website/cart2.png', 'alt': 'item'}, {'src': '/webscraper-python-codedamn-classroom-website/cart2.png', 'alt': 'item'}, {'src': '/webscraper-python-codedamn-classroom-website/fbicon.png', 'alt': 'Web Scraper on Facebook'}, {'src': '/webscraper-python-codedamn-classroom-website/twicon.png', 'alt': 'Web Scraper on Twitter'}]\n"
          ]
        }
      ]
    },
    {
      "cell_type": "markdown",
      "source": [
        "**Challenge:**\n",
        "\n",
        "**In this lab, your task is to extract the href attribute of links with their text as well.**"
      ],
      "metadata": {
        "id": "Mf1htgJzPAa_"
      }
    },
    {
      "cell_type": "code",
      "source": [
        "#@title Solution to above challenge {display-mode: \"form\"}\n",
        "\n",
        "import requests\n",
        "from bs4 import BeautifulSoup\n",
        "# Make a request\n",
        "page = requests.get(\"https://codedamn-classrooms.github.io/webscraper-python-codedamn-classroom-website/\")\n",
        "soup = BeautifulSoup(page.content, 'html.parser')\n",
        "\n",
        "# Create top_items as empty list\n",
        "all_links = []\n",
        "\n",
        "# Extract and store in top_items according to instructions on the left\n",
        "links = soup.select('a')\n",
        "for ahref in links:\n",
        "    text = ahref.text\n",
        "    text = text.strip() if text is not None else ''\n",
        "\n",
        "    href = ahref.get('href')\n",
        "    href = href.strip() if href is not None else ''\n",
        "    all_links.append({\"href\": href, \"text\": text})\n",
        "\n",
        "print(all_links)"
      ],
      "metadata": {
        "id": "MDclcAYWPHmZ",
        "colab": {
          "base_uri": "https://localhost:8080/"
        },
        "outputId": "b477513f-8288-44d9-de81-e58a59494248"
      },
      "execution_count": null,
      "outputs": [
        {
          "output_type": "stream",
          "name": "stdout",
          "text": [
            "[{'href': '', 'text': 'Toggle navigation'}, {'href': '/webscraper-python-codedamn-classroom-website/', 'text': ''}, {'href': '#page-top', 'text': ''}, {'href': '/webscraper-python-codedamn-classroom-website/', 'text': 'Web Scraper'}, {'href': '/webscraper-python-codedamn-classroom-website/cloud-scraper', 'text': 'Cloud Scraper'}, {'href': '/webscraper-python-codedamn-classroom-website/pricing', 'text': 'Pricing'}, {'href': '#section3', 'text': 'Learn'}, {'href': '/webscraper-python-codedamn-classroom-website/documentation', 'text': 'Documentation'}, {'href': '/webscraper-python-codedamn-classroom-website/tutorials', 'text': 'Video Tutorials'}, {'href': '/webscraper-python-codedamn-classroom-website/how-to-videos', 'text': 'How to'}, {'href': '/webscraper-python-codedamn-classroom-website/test-sites', 'text': 'Test Sites'}, {'href': 'https://forum.webscraper.io/', 'text': 'Forum'}, {'href': 'https://chrome.google.com/webstore/detail/web-scraper/jnhgnonknehpejjnehehllkliplmbmhn?hl=en', 'text': 'Install'}, {'href': 'https://cloud.webscraper.io/', 'text': 'Login'}, {'href': '/webscraper-python-codedamn-classroom-website/test-sites/e-commerce/allinone', 'text': 'Home'}, {'href': '/webscraper-python-codedamn-classroom-website/test-sites/e-commerce/allinone/computers', 'text': 'Computers'}, {'href': '/webscraper-python-codedamn-classroom-website/test-sites/e-commerce/allinone/phones', 'text': 'Phones'}, {'href': '/webscraper-python-codedamn-classroom-website/test-sites/e-commerce/allinone/product/593', 'text': 'Asus AsusPro Adv...'}, {'href': '/webscraper-python-codedamn-classroom-website/test-sites/e-commerce/allinone/product/583', 'text': 'Asus ROG Strix G...'}, {'href': '/webscraper-python-codedamn-classroom-website/test-sites/e-commerce/allinone/product/576', 'text': 'Acer Aspire 3 A3...'}, {'href': '/webscraper-python-codedamn-classroom-website/', 'text': 'Web Scraper browser extension'}, {'href': '/webscraper-python-codedamn-classroom-website/pricing', 'text': 'Web Scraper Cloud'}, {'href': '/webscraper-python-codedamn-classroom-website/contact', 'text': 'Contact'}, {'href': '/webscraper-python-codedamn-classroom-website/privacy-policy', 'text': 'Website Privacy Policy'}, {'href': '/webscraper-python-codedamn-classroom-website/extension-privacy-policy', 'text': 'Browser Extension Privacy Policy'}, {'href': 'http://webscraperio.us-east-1.elasticbeanstalk.com/downloads/Web_Scraper_Media_Kit.zip', 'text': 'Media kit'}, {'href': '/webscraper-python-codedamn-classroom-website/jobs', 'text': 'Jobs'}, {'href': '/webscraper-python-codedamn-classroom-website/blog', 'text': 'Blog'}, {'href': '/webscraper-python-codedamn-classroom-website/documentation', 'text': 'Documentation'}, {'href': '/webscraper-python-codedamn-classroom-website/tutorials', 'text': 'Video Tutorials'}, {'href': '/webscraper-python-codedamn-classroom-website/screenshots', 'text': 'Screenshots'}, {'href': '/webscraper-python-codedamn-classroom-website/test-sites', 'text': 'Test Sites'}, {'href': 'https://forum.webscraper.io/', 'text': 'Forum'}, {'href': 'mailto:info@webscraper.io', 'text': 'info@webscraper.io'}, {'href': 'https://www.facebook.com/webscraperio/', 'text': ''}, {'href': 'https://twitter.com/webscraperio', 'text': ''}, {'href': '#', 'text': 'Web Scraper'}]\n"
          ]
        }
      ]
    },
    {
      "cell_type": "markdown",
      "source": [
        "# Generating CSV from data"
      ],
      "metadata": {
        "id": "hbWObbDGQN27"
      }
    },
    {
      "cell_type": "markdown",
      "source": [
        "**Finally, let's understand how you can generate CSV from a set of data. You will create a CSV with the following headings:**\n",
        "\n",
        "*   Product Name\n",
        "*   Price\n",
        "*   Description\n",
        "*   Reviews\n",
        "*   Product Image\n",
        "\n",
        "These products are located in the **div.thumbnail**. The CSV boilerplate is given below:"
      ],
      "metadata": {
        "id": "hGSV8udpQJvV"
      }
    },
    {
      "cell_type": "code",
      "source": [
        "import requests\n",
        "from bs4 import BeautifulSoup\n",
        "import csv\n",
        "\n",
        "# Make a request\n",
        "page = requests.get(\"https://codedamn-classrooms.github.io/webscraper-python-codedamn-classroom-website/\")\n",
        "soup = BeautifulSoup(page.content, 'html.parser')\n",
        "\n",
        "# Create top_items as empty list\n",
        "all_products = []\n",
        "\n",
        "# Extract and store in top_items according to instructions on the left\n",
        "products = soup.select('div.thumbnail')\n",
        "for product in products:\n",
        "\n",
        "    all_products.append({\n",
        "        \"name\": product.select('h4 > a')[0].text.strip(),\n",
        "        \"description\": product.select('p.description')[0].text.strip(),\n",
        "        \"price\": product.select('h4.price')[0].text.strip(),\n",
        "        \"reviews\": product.select('div.ratings')[0].text.strip(),\n",
        "        \"image\": product.select('img')[0].get('src')\n",
        "    })\n",
        "\n",
        "\n",
        "keys = all_products[0].keys()\n",
        "\n",
        "with open('/content/drive/MyDrive/Colab Notebooks/Datafiles/webscrappingdata.csv', 'w', newline='') as output_file:\n",
        "    dict_writer = csv.DictWriter(output_file, keys)\n",
        "    dict_writer.writeheader()\n",
        "    dict_writer.writerows(all_products)\n",
        "\n",
        "print(\"Job Done! \\n\\nCSV Written Sucessfully.\")"
      ],
      "metadata": {
        "id": "BtbIkS74Qa-O",
        "colab": {
          "base_uri": "https://localhost:8080/"
        },
        "outputId": "d90fdbb0-5ec0-46f0-b419-7d1d27d7c765"
      },
      "execution_count": null,
      "outputs": [
        {
          "output_type": "stream",
          "name": "stdout",
          "text": [
            "Job Done! \n",
            "\n",
            "CSV Written Sucessfully.\n"
          ]
        }
      ]
    },
    {
      "cell_type": "code",
      "source": [
        "import pandas as pd\n",
        "\n",
        "df = pd.read_csv(\"/content/drive/MyDrive/Colab Notebooks/Datafiles/webscrappingdata.csv\")\n",
        "\n",
        "#csv_read('/content/drive/MyDrive/Colab Notebooks/Datafiles/webscrappingdata.csv')\n",
        "\n",
        "print(df)\n"
      ],
      "metadata": {
        "colab": {
          "base_uri": "https://localhost:8080/"
        },
        "id": "g1X9X3JDxj1g",
        "outputId": "21c68586-e747-4fff-de20-81e9cefef164"
      },
      "execution_count": null,
      "outputs": [
        {
          "output_type": "stream",
          "name": "stdout",
          "text": [
            "                  name                                        description  \\\n",
            "0  Asus AsusPro Adv...  Asus AsusPro Advanced BU401LA-FA271G Dark Grey...   \n",
            "1  Asus ROG Strix G...  Apple MacBook Air 13.3\", Core i5 1.8GHz, 8GB, ...   \n",
            "2  Acer Aspire 3 A3...  Acer Aspire 3 A315-51 Black, 15.6\" FHD, Core\\n...   \n",
            "\n",
            "      price    reviews                                              image  \n",
            "0  $1139.54  7 reviews  /webscraper-python-codedamn-classroom-website/...  \n",
            "1  $1101.83  4 reviews  /webscraper-python-codedamn-classroom-website/...  \n",
            "2   $494.71  2 reviews  /webscraper-python-codedamn-classroom-website/...  \n"
          ]
        }
      ]
    },
    {
      "cell_type": "markdown",
      "source": [
        "# **BeautifulSoup functions – find() and find_all()**"
      ],
      "metadata": {
        "id": "FGEsTLkoFS-W"
      }
    },
    {
      "cell_type": "code",
      "source": [
        "import requests\n",
        "from bs4 import BeautifulSoup\n",
        "\n",
        "page = requests.get(\"http://stats.espncricinfo.com/wi/content/records/223646.html\")\n",
        "soup = BeautifulSoup(page.content, 'html.parser')\n",
        "\n",
        "print(soup.title)"
      ],
      "metadata": {
        "colab": {
          "base_uri": "https://localhost:8080/"
        },
        "id": "qbHB-0EDGKGl",
        "outputId": "cc90cb48-a78e-405b-dcc7-b1cbc4a10389"
      },
      "execution_count": null,
      "outputs": [
        {
          "output_type": "stream",
          "name": "stdout",
          "text": [
            "<title>Records | Test matches | Batting records | Most runs in career | ESPNcricinfo.com</title>\n"
          ]
        }
      ]
    },
    {
      "cell_type": "markdown",
      "source": [
        "# **BeautifulSoup objects and Access children property of object.**"
      ],
      "metadata": {
        "id": "6xgnNBjzFXxX"
      }
    },
    {
      "cell_type": "markdown",
      "source": [
        "We can use these functions to **filter html pages** to find **lists of desired tags, or a single tag, based on their attributes.**\n",
        "\n",
        "**The definitions of the two functions:**\n",
        "\n",
        "1.   **find_all(tag, attributes, recursive, text, limit, keywords)**\n",
        "\n",
        "2.   **find(tag, attributes, recursive, text, keywords)**\n",
        "\n",
        "\n",
        "\n",
        "---\n",
        "\n",
        "\n",
        "*   **tag** - string name of a tag.\n",
        "*   **attributes** - takes a Python dictionary of attributes and matches tags that contain any one of those attributes.\n",
        "*   **recursive** - boolean. It signifies how deep into the document we want to search. If recursive is set to True, the find_all function looks into children, and children's children, for tags that match the parameters. If it is False, it will look only at the top-level tags in the document. By default, recursive is set to True.\n",
        "*   **text** - matches content based on the text content of the tags.\n",
        "*   **limit** - used only in the find_all() method. find() is equivalent to  find_all(), with a limit of 1. We can set this if we are interested only in retrieving the first x items from the page.\n",
        "*   **keyword** - allows to select tags that contain a particular attribute or set of attributes."
      ],
      "metadata": {
        "id": "DpgL1Ot8SjvQ"
      }
    },
    {
      "cell_type": "markdown",
      "source": [
        "# **Access html tags within a webpage. Extract and Print the tables using BeautifulSoup.**"
      ],
      "metadata": {
        "id": "bP1u1HmEFzff"
      }
    },
    {
      "cell_type": "code",
      "source": [
        "links = soup.find_all('a')\n",
        "\n",
        "links"
      ],
      "metadata": {
        "id": "kjRczwZ6SJLO"
      },
      "execution_count": null,
      "outputs": []
    },
    {
      "cell_type": "markdown",
      "source": [
        "**Print the tables**"
      ],
      "metadata": {
        "id": "Y1EL2ZCoR6dA"
      }
    },
    {
      "cell_type": "code",
      "source": [
        "tables = soup.find_all('table')\n",
        "\n",
        "tables"
      ],
      "metadata": {
        "id": "rR8wFWL6R7oO"
      },
      "execution_count": null,
      "outputs": []
    },
    {
      "cell_type": "markdown",
      "source": [
        "**Print the table headers**"
      ],
      "metadata": {
        "id": "u5iDx7vaRj54"
      }
    },
    {
      "cell_type": "code",
      "source": [
        "headers = soup.find_all('th')\n",
        "\n",
        "headers"
      ],
      "metadata": {
        "id": "VjLkSMWeRW76"
      },
      "execution_count": null,
      "outputs": []
    },
    {
      "cell_type": "markdown",
      "source": [
        "**Print the table rows**"
      ],
      "metadata": {
        "id": "I78RXyrBRh5f"
      }
    },
    {
      "cell_type": "code",
      "source": [
        "rows = soup.find_all('tr')\n",
        "\n",
        "rows"
      ],
      "metadata": {
        "id": "h2U5Hu86NRtb"
      },
      "execution_count": null,
      "outputs": []
    },
    {
      "cell_type": "markdown",
      "source": [
        "**Print the table cells**"
      ],
      "metadata": {
        "id": "ek-i89p5Rgh8"
      }
    },
    {
      "cell_type": "code",
      "source": [
        "cells = soup.find_all('td')\n",
        "\n",
        "cells"
      ],
      "metadata": {
        "id": "MxmSn7RNRcCN"
      },
      "execution_count": null,
      "outputs": []
    },
    {
      "cell_type": "markdown",
      "source": [
        "# Challenges:"
      ],
      "metadata": {
        "id": "2fkW54uwyGwy"
      }
    },
    {
      "cell_type": "markdown",
      "source": [
        "**<h3>Challenge - 1:</h3>**\n",
        "\n",
        "Use Link: https://gpericomp.000webhostapp.com/\n",
        "\n",
        "*   Identify and Extract the title : **OUR POPULAR COURSES**\n",
        "\n",
        "*   Extract the **title text and fees of each course listed** under the above title."
      ],
      "metadata": {
        "id": "qlpCG-fAyPJB"
      }
    },
    {
      "cell_type": "code",
      "source": [
        "#@title Solution to above challenge {display-mode: \"form\"}\n",
        "\n",
        "import requests\n",
        "from bs4 import BeautifulSoup\n",
        "import csv\n",
        "\n",
        "page = requests.get(\"https://gpericomp.000webhostapp.com/\")\n",
        "soup = BeautifulSoup(page.content, 'html.parser')\n",
        "\n",
        "all_courses = []\n",
        "\n",
        "course = soup.select('section.our-courses')[0].text.strip()\n",
        "\n",
        "print()\n",
        "\n",
        "#print(len(course))\n",
        "\n",
        "for ele in course:\n",
        "  ele_title = ele.select('h4')[0].text\n",
        "\n",
        "  info = {\n",
        "      'title' : ele_title.strip()\n",
        "  }\n",
        "\n",
        "  all_courses.append(info)\n",
        "\n",
        "print(all_courses)"
      ],
      "metadata": {
        "id": "ldg62VSdz79W"
      },
      "execution_count": null,
      "outputs": []
    },
    {
      "cell_type": "markdown",
      "source": [
        "**<h3>Challenge - 2:</h3>**\n",
        "\n",
        "Use Link: https://www.newegg.com/Video-Cards-Video-Devices/Category/ID-38?Tpk=graphics%20card\n",
        "\n",
        "*   Identify and Extract the details of product: **brand, product_name and shipping information.**\n"
      ],
      "metadata": {
        "id": "g6uilE3HWZ2R"
      }
    },
    {
      "cell_type": "code",
      "source": [
        "#@title Solution to above challenge {display-mode: \"form\"}\n",
        "\n",
        "import requests\n",
        "from bs4 import BeautifulSoup as soup\n",
        "\n",
        "page = requests.get(\"https://www.newegg.com/Video-Cards-Video-Devices/Category/ID-38?Tpk=graphics%20card\")\n",
        "\n",
        "# html parsing\n",
        "page_soup = soup(page.content, 'html.parser')\n",
        "\n",
        "# grabbing all containers with class name = item-container\n",
        "containers = page_soup.findAll('div', {'class':'item-container'})\n",
        "\n",
        "filename = \"/content/drive/MyDrive/Colab Notebooks/Datafiles/newegg_products_webscrap.csv\"\n",
        "f = open(filename, 'w')\n",
        "\n",
        "headers = \"brands, product_name, shipping, MRP, Current_Price\\n\"\n",
        "\n",
        "f.write(headers)\n",
        "\n",
        "container = containers[1]\n",
        "\n",
        "for container in containers:\n",
        "    brand = container.div.div.a.img['title']\n",
        "    title_container = container.findAll('a', {'class':'item-title'})\n",
        "    product_name = title_container[0].text\n",
        "    ship_container = container.findAll('li', {'class':'price-ship'})\n",
        "    # use strip() to remove blank spaces before and after text\n",
        "    shipping = ship_container[0].text.strip()\n",
        "    mrp_li = container.find('li', {'class':'price-was'})\n",
        "    mrp = mrp_li.text\n",
        "    current_li = container.find('li', {'class':'price-current'})\n",
        "    current_price = current_li.text\n",
        "\n",
        "    print(\"brand:\" + brand)\n",
        "    print(\"product_name:\" + product_name)\n",
        "    print(\"shipping:\" + shipping)\n",
        "    print(\"MRP:\" + mrp)\n",
        "    print(\"Current Price:\" + current_price)\n",
        "    print(\"\\n\\n\")\n",
        "\n",
        "    f.write(brand + ',' + product_name.replace(',' , '|') + ',' + shipping + ',' + mrp.replace(',' , ' ') + ',' + current_price.replace(',' , ' ') + '\\n')\n",
        "\n",
        "f.close()"
      ],
      "metadata": {
        "id": "JZcOWeGgWepm"
      },
      "execution_count": null,
      "outputs": []
    },
    {
      "cell_type": "markdown",
      "source": [
        "**<h3>Challenge - 3:</h3>**\n",
        "\n",
        "Use Link: https://www.amazon.in/s?bbn=26449648031&rh=n%3A26449648031%2Cp_89%3ASamsung&dc&qid=1649062392&rnid=3837712031&ref=lp_26449648031_nr_p_89_0\n",
        "\n",
        "*   Identify and Extract the price and MRP of the products.\n",
        "*   Calculate Discount offered by comparing the price and MRP.\n",
        "*   Print the message is the discount is greater than 50(any)%.  \n"
      ],
      "metadata": {
        "id": "Brii_Ujzv-pN"
      }
    },
    {
      "cell_type": "code",
      "source": [
        "#@title Solution to above challenge {display-mode: \"form\"}\n",
        "\n",
        "import requests\n",
        "from bs4 import BeautifulSoup\n",
        "\n",
        "page = requests.get(\"https://www.amazon.in/s?bbn=26449648031&rh=n%3A26449648031%2Cp_89%3ASamsung&dc&qid=1649062392&rnid=3837712031&ref=lp_26449648031_nr_p_89_0\")\n",
        "soup = BeautifulSoup(page.content, 'html.parser')\n",
        "\n",
        "print(soup.text)\n"
      ],
      "metadata": {
        "id": "qTL_8-fj4nUB"
      },
      "execution_count": null,
      "outputs": []
    },
    {
      "cell_type": "code",
      "source": [
        "#@title Solution to above challenge {display-mode: \"form\"}\n",
        "\n",
        "import requests\n",
        "from bs4 import BeautifulSoup\n",
        "\n",
        "# specifying user agent, You can use other user agents\n",
        "# available on the internet\n",
        "headers = {\"User-Agent\":\"Mozilla/5.0 (Windows NT 10.0; Win64; x64; rv:66.0) Gecko/20100101 Firefox/66.0\", \"Accept-Encoding\":\"gzip, deflate\", \"Accept\":\"text/html,application/xhtml+xml,application/xml;q=0.9,*/*;q=0.8\", \"DNT\":\"1\",\"Connection\":\"close\", \"Upgrade-Insecure-Requests\":\"1\"}\n",
        "\n",
        "page = requests.get(\"https://www.amazon.in/s?bbn=26449648031&rh=n%3A26449648031%2Cp_89%3ASamsung&dc&qid=1649062392&rnid=3837712031&ref=lp_26449648031_nr_p_89_0\", headers=headers)\n",
        "soup = BeautifulSoup(page.content, 'html.parser')\n",
        "\n",
        "#print(soup.text)\n",
        "\n",
        "products = soup.find_all('div', {'class':'sg-col-4-of-12 s-result-item s-asin sg-col-4-of-16 sg-col s-widget-spacing-small sg-col-4-of-20'})\n",
        "\n",
        "print(\"Total Products on Page: \" + str(len(products)) + \"\\n\\n\")\n",
        "\n",
        "for product in products: # to process each product in products list\n",
        "  prod_name = product.find('h2',{'class':'a-size-mini a-spacing-none a-color-base s-line-clamp-4'})\n",
        "  prod_price = product.find_all('span',{'class':'a-offscreen'})\n",
        "\n",
        "  print(prod_name.text)\n",
        "  if(len(prod_price)>0): # if product is currently unavailable\n",
        "    price = int(prod_price[0].text.replace('₹' , '').replace(',' , ''))\n",
        "    if(len(prod_price) == 2): # if there is no discount\n",
        "      mrp = int(prod_price[1].text.replace('₹' , '').replace(',' , ''))\n",
        "    else:\n",
        "      mrp = price\n",
        "    print(\"Price:\" + str(price), \"\\nMRP:\" + str(mrp))\n",
        "\n",
        "  \n",
        "  discount = round(100-((price/mrp)*100),1)\n",
        "  print(\"Discount:\" + str(discount) + \"\\n\\n\")\n",
        "\n",
        "  if(discount>20):\n",
        "    print(\"Product is on Huge discount of \" + str(discount) + \". Buy it fast.\\n\\n\")\n",
        "\n",
        "    "
      ],
      "metadata": {
        "id": "llLTKHzK71oG"
      },
      "execution_count": null,
      "outputs": []
    },
    {
      "cell_type": "markdown",
      "source": [
        "**Apply the above script by reseting the filter on same page.**\n",
        "\n",
        "\n",
        "**Note:** \n",
        "*   Url has been changed as filter reset."
      ],
      "metadata": {
        "id": "cRc_nPzodiyN"
      }
    },
    {
      "cell_type": "code",
      "source": [
        "#@title Solution to above challenge {display-mode: \"form\"}\n",
        "\n",
        "import requests\n",
        "from bs4 import BeautifulSoup\n",
        "\n",
        "# specifying user agent, You can use other user agents\n",
        "# available on the internet\n",
        "headers = {\"User-Agent\":\"Mozilla/5.0 (Windows NT 10.0; Win64; x64; rv:66.0) Gecko/20100101 Firefox/66.0\", \"Accept-Encoding\":\"gzip, deflate\", \"Accept\":\"text/html,application/xhtml+xml,application/xml;q=0.9,*/*;q=0.8\", \"DNT\":\"1\",\"Connection\":\"close\", \"Upgrade-Insecure-Requests\":\"1\"}\n",
        "\n",
        "def amazon_price_compare():\n",
        "  url = \"https://www.amazon.in/s?i=electronics&bbn=26449648031&rh=n%3A26449648031%2Cp_89%3AMI%7COppo%7CRedmi%7CSamsung%7CVivo%7CiQOO&dc&qid=1649073343&rnid=3837712031&ref=sr_nr_p_89_6\"\n",
        "  page = requests.get(url, headers=headers)\n",
        "  soup = BeautifulSoup(page.content, 'html.parser')\n",
        "\n",
        "  #print(soup.text)\n",
        "\n",
        "  products = soup.find_all('div', {'class':'sg-col-4-of-12 s-result-item s-asin sg-col-4-of-16 sg-col s-widget-spacing-small sg-col-4-of-20'})\n",
        "\n",
        "  print(\"Total Products on Page: \" + str(len(products)) + \"\\n\\n\")\n",
        "\n",
        "  for product in products: # to process each product in products list\n",
        "    prod_name = product.find('h2',{'class':'a-size-mini a-spacing-none a-color-base s-line-clamp-4'})\n",
        "    prod_price = product.find_all('span',{'class':'a-offscreen'})\n",
        "\n",
        "    print(prod_name.text)\n",
        "    if(len(prod_price)>0): # if product is currently unavailable\n",
        "      price = int(prod_price[0].text.replace('₹' , '').replace(',' , ''))\n",
        "      if(len(prod_price) == 2): # if there is no discount\n",
        "        mrp = int(prod_price[1].text.replace('₹' , '').replace(',' , ''))\n",
        "      else:\n",
        "        mrp = price\n",
        "      print(\"Price:\" + str(price), \"\\nMRP:\" + str(mrp))\n",
        "\n",
        "    \n",
        "    discount = round(100-((price/mrp)*100),1)\n",
        "    print(\"Discount:\" + str(discount) + \"\\n\\n\")\n",
        "\n",
        "    if(discount>20):\n",
        "      print(\"Product is on Huge discount of \" + str(discount) + \". Buy it fast.\\n\\n\")\n",
        "    \n",
        "  return len(products)\n",
        "\n",
        "no_of_products = amazon_price_compare()\n",
        "\n",
        "while True:\n",
        "  if(no_of_products==0):\n",
        "    no_of_products = amazon_price_compare()\n",
        "  else:\n",
        "    break"
      ],
      "metadata": {
        "id": "cYLFl-FSbA0k",
        "colab": {
          "base_uri": "https://localhost:8080/"
        },
        "outputId": "555aa079-1ec9-4e77-a492-6fa758a41897"
      },
      "execution_count": 30,
      "outputs": [
        {
          "output_type": "stream",
          "name": "stdout",
          "text": [
            "Total Products on Page: 0\n",
            "\n",
            "\n",
            "Total Products on Page: 0\n",
            "\n",
            "\n",
            "Total Products on Page: 0\n",
            "\n",
            "\n",
            "Total Products on Page: 0\n",
            "\n",
            "\n",
            "Total Products on Page: 0\n",
            "\n",
            "\n",
            "Total Products on Page: 24\n",
            "\n",
            "\n",
            "Samsung Galaxy M12 (Blue,6GB RAM, 128GB Storage) 6 Months Free Screen Replacement for Prime  \n",
            "Price:13499 \n",
            "MRP:15499\n",
            "Discount:12.9\n",
            "\n",
            "\n",
            "Samsung Galaxy M32 (Black, 6GB RAM, 128GB Storage) 6 Months Free Screen Replacement for Prime  \n",
            "Price:14999 \n",
            "MRP:18999\n",
            "Discount:21.1\n",
            "\n",
            "\n",
            "Product is on Huge discount of 21.1. Buy it fast.\n",
            "\n",
            "\n",
            "Redmi Note 10S (Deep Sea Blue, 6GB RAM, 64GB Storage) -Super Amoled Display  \n",
            "Price:14999 \n",
            "MRP:16999\n",
            "Discount:11.8\n",
            "\n",
            "\n",
            "Samsung Galaxy M12 (Black,6GB RAM, 128GB Storage) 6 Months Free Screen Replacement for Prime  \n",
            "Price:13499 \n",
            "MRP:15499\n",
            "Discount:12.9\n",
            "\n",
            "\n",
            "Samsung Galaxy M32 (Light Blue, 4GB RAM, 64GB Storage) 6 Months Free Screen Replacement for Prime  \n",
            "Price:12999 \n",
            "MRP:16999\n",
            "Discount:23.5\n",
            "\n",
            "\n",
            "Product is on Huge discount of 23.5. Buy it fast.\n",
            "\n",
            "\n",
            "Samsung Galaxy M32 (Black, 4GB RAM, 64GB Storage) 6 Months Free Screen Replacement for Prime  \n",
            "Price:12999 \n",
            "MRP:16999\n",
            "Discount:23.5\n",
            "\n",
            "\n",
            "Product is on Huge discount of 23.5. Buy it fast.\n",
            "\n",
            "\n",
            "iQOO Z3 5G (Ace Black, 8GB RAM, 128GB Storage) | India's First SD 768G 5G Processor | 55W FlashCharge | Upto 6 Months No Cost EMI  \n",
            "Price:20990 \n",
            "MRP:24990\n",
            "Discount:16.0\n",
            "\n",
            "\n",
            "Samsung Galaxy M21 2021 Edition (Arctic Blue, 4GB RAM, 64GB Storage) | FHD+ sAMOLED | 6 Months Free Screen Replacement for Prime (SM-M215GLBDINS)  \n",
            "Price:12999 \n",
            "MRP:14999\n",
            "Discount:13.3\n",
            "\n",
            "\n",
            "Oppo A54 (Starry Blue, 4GB RAM, 64GB Storage) with No Cost EMI & Additional Exchange Offers  \n",
            "Price:12490 \n",
            "MRP:14990\n",
            "Discount:16.7\n",
            "\n",
            "\n",
            "Samsung Galaxy M21 2021 Edition (Charcoal Black, 4GB RAM, 64GB Storage) | FHD+ sAMOLED | 6 Months Free Screen Replacement for Prime (SM-M215GZKDINS)  \n",
            "Price:12999 \n",
            "MRP:14999\n",
            "Discount:13.3\n",
            "\n",
            "\n",
            "Redmi Note 10S (Shadow Black, 6GB RAM, 64GB Storage) - Super Amoled Display | 64 MP Quad Camera  \n",
            "Price:14999 \n",
            "MRP:16999\n",
            "Discount:11.8\n",
            "\n",
            "\n",
            "OPPO F19 (Midnight Blue, 6GB RAM, 128GB Storage) 48MP Triple Camera | AMOLED FHD+ Display | 5000 mAh Battery | ₹4000 Coupon Discount  \n",
            "Price:19990 \n",
            "MRP:20990\n",
            "Discount:4.8\n",
            "\n",
            "\n",
            "Vivo Y73 (Diamond Flare, 8GB RAM, 128GB Storage) with No Cost EMI/Additional Exchange Offers  \n",
            "Price:19989 \n",
            "MRP:24990\n",
            "Discount:20.0\n",
            "\n",
            "\n",
            "OPPO F19 (Prism Black, 6GB RAM, 128GB Storage) 48MP Triple Camera | AMOLED FHD+ Display | 5000 mAh Battery | ₹4000 Coupon Discount  \n",
            "Price:19990 \n",
            "MRP:20990\n",
            "Discount:4.8\n",
            "\n",
            "\n",
            "iQOO 7 5G (Solid Ice Blue, 8GB RAM, 128GB Storage) | 3GB Extended RAM | Upto 12 Months No Cost EMI | 6 Months Free Screen Replacement  \n",
            "Price:29990 \n",
            "MRP:34999\n",
            "Discount:14.3\n",
            "\n",
            "\n",
            "iQOO 7 5G (Storm Black, 8GB RAM, 128GB Storage) | 3GB Extended RAM | Upto 12 Months No Cost EMI | 6 Months Free Screen Replacement  \n",
            "Price:29990 \n",
            "MRP:34990\n",
            "Discount:14.3\n",
            "\n",
            "\n",
            "iQOO Z3 5G (Ace Black, 8GB RAM, 256GB Storage) | India's First SD 768G 5G Processor | 55W FlashCharge | Upto 6 Months No Cost EMI  \n",
            "Price:22990 \n",
            "MRP:26990\n",
            "Discount:14.8\n",
            "\n",
            "\n",
            "Redmi Note 10S (Frost White, 6GB RAM, 64GB Storage) - Super Amoled Display | 64 MP Quad Camera | Alexa Built in  \n",
            "Price:14999 \n",
            "MRP:16999\n",
            "Discount:11.8\n",
            "\n",
            "\n",
            "Samsung Galaxy M12 (White,6GB RAM, 128GB Storage) 6 Months Free Screen Replacement for Prime  \n",
            "Price:13499 \n",
            "MRP:15499\n",
            "Discount:12.9\n",
            "\n",
            "\n",
            "Mi 11X 5G (Cosmic Black 6GB RAM 128GB ROM) | SD 870 | DisplayMate A+ rated E4 AMOLED | Upto 18 Months No Cost EMI | Extra offers on Exchange  \n",
            "Price:27999 \n",
            "MRP:33999\n",
            "Discount:17.6\n",
            "\n",
            "\n",
            "OPPO A54 (Crystal Black, 4GB RAM, 64GB Storage) with No Cost EMI & Additional Exchange Offers  \n",
            "Price:12489 \n",
            "MRP:14900\n",
            "Discount:16.2\n",
            "\n",
            "\n",
            "Redmi Note 10S (Frost White, 6GB RAM, 128GB) - Super Amoled Display  \n",
            "Price:14999 \n",
            "MRP:18999\n",
            "Discount:21.1\n",
            "\n",
            "\n",
            "Product is on Huge discount of 21.1. Buy it fast.\n",
            "\n",
            "\n",
            "iQOO Z3 5G (Cyber Blue, 8GB RAM, 256GB Storage) | India's First SD 768G 5G Processor | 55W FlashCharge | Upto 6 Months No Cost EMI  \n",
            "Price:22990 \n",
            "MRP:26990\n",
            "Discount:14.8\n",
            "\n",
            "\n",
            "Vivo Y73 (Roman Black, 8GB RAM, 128GB Storage) with No Cost EMI/Additional Exchange Offers  \n",
            "Price:19990 \n",
            "MRP:24900\n",
            "Discount:19.7\n",
            "\n",
            "\n"
          ]
        }
      ]
    },
    {
      "cell_type": "markdown",
      "source": [
        "**Apply the above script to the different products page.**\n",
        "\n",
        "Note: Change the value of **url**"
      ],
      "metadata": {
        "id": "YPnOZbCee1-1"
      }
    }
  ]
}